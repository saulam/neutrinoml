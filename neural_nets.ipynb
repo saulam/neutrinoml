{
  "nbformat": 4,
  "nbformat_minor": 0,
  "metadata": {
    "kernelspec": {
      "display_name": "Python 3",
      "language": "python",
      "name": "python3"
    },
    "language_info": {
      "codemirror_mode": {
        "name": "ipython",
        "version": 3
      },
      "file_extension": ".py",
      "mimetype": "text/x-python",
      "name": "python",
      "nbconvert_exporter": "python",
      "pygments_lexer": "ipython3",
      "version": "3.9.1"
    },
    "colab": {
      "name": "Copy of neural_nets.ipynb",
      "provenance": [],
      "collapsed_sections": [],
      "toc_visible": true
    },
    "accelerator": "GPU"
  },
  "cells": [
    {
      "cell_type": "markdown",
      "metadata": {
        "id": "LVjl-kju6o4S"
      },
      "source": [
        "# Particle identification\n",
        "\n",
        "This assignment aims to learn how to define and run deep-learning methods for particle identification of neutrino events. In the last machine-learning lecture, we implemented a number of classification models using standard machine-learning methods (i.e., logistic regression and decision trees). However, we will use deep learning for this assignment instead, which consists of complex artificial neural networks."
      ]
    },
    {
      "cell_type": "markdown",
      "metadata": {
        "id": "UG5VHLK7-iqp"
      },
      "source": [
        "##Prerequisites"
      ]
    },
    {
      "cell_type": "markdown",
      "source": [
        "Let's start with turning on the GPU (if available):\n",
        "\n",
        "```\n",
        "Edit -> Notebook settings -> Hardware accelerator: GPU -> Save.\n",
        "```\n",
        "\n"
      ],
      "metadata": {
        "id": "NaUCNuA9DBG5"
      }
    },
    {
      "cell_type": "markdown",
      "metadata": {
        "id": "mHMkB-apwSJy"
      },
      "source": [
        "Download the dataset, as well as load the needed Python packages and modules:"
      ]
    },
    {
      "cell_type": "code",
      "source": [
        "!wget \"https://raw.githubusercontent.com/saulam/neutrinoml/main/modules.py\"\n",
        "!wget \"https://raw.githubusercontent.com/saulam/neutrinoml/main/df_pgun_teaching.p\"\n",
        "\n",
        "import pandas as pd\n",
        "import numpy as np\n",
        "import matplotlib.pyplot as plt\n",
        "import tensorflow as tf\n",
        "from tensorflow.keras.models import Sequential, Model\n",
        "from tensorflow.keras.layers import Dense, Input, Flatten\n",
        "from tensorflow.keras.layers import Conv2D, MaxPooling2D, Activation, Flatten, Dense\n",
        "from mpl_toolkits.mplot3d import Axes3D\n",
        "from sklearn.preprocessing import scale\n",
        "from sklearn.metrics import classification_report, confusion_matrix, accuracy_score\n",
        "from sklearn.model_selection import train_test_split\n",
        "from modules import *"
      ],
      "metadata": {
        "colab": {
          "base_uri": "https://localhost:8080/"
        },
        "id": "zeZ5YQbaDkQO",
        "outputId": "3f717198-579d-4d2f-952a-a08945005aa0"
      },
      "execution_count": null,
      "outputs": [
        {
          "output_type": "stream",
          "name": "stdout",
          "text": [
            "--2021-12-12 21:45:01--  https://raw.githubusercontent.com/saulam/neutrinoml/main/modules.py\n",
            "Resolving raw.githubusercontent.com (raw.githubusercontent.com)... 185.199.108.133, 185.199.109.133, 185.199.110.133, ...\n",
            "Connecting to raw.githubusercontent.com (raw.githubusercontent.com)|185.199.108.133|:443... connected.\n",
            "HTTP request sent, awaiting response... 200 OK\n",
            "Length: 9617 (9.4K) [text/plain]\n",
            "Saving to: ‘modules.py’\n",
            "\n",
            "\rmodules.py            0%[                    ]       0  --.-KB/s               \rmodules.py          100%[===================>]   9.39K  --.-KB/s    in 0s      \n",
            "\n",
            "2021-12-12 21:45:01 (58.6 MB/s) - ‘modules.py’ saved [9617/9617]\n",
            "\n",
            "--2021-12-12 21:45:01--  https://raw.githubusercontent.com/saulam/neutrinoml/main/df_pgun_teaching.p\n",
            "Resolving raw.githubusercontent.com (raw.githubusercontent.com)... 185.199.109.133, 185.199.108.133, 185.199.110.133, ...\n",
            "Connecting to raw.githubusercontent.com (raw.githubusercontent.com)|185.199.109.133|:443... connected.\n",
            "HTTP request sent, awaiting response... 200 OK\n",
            "Length: 79089990 (75M) [application/octet-stream]\n",
            "Saving to: ‘df_pgun_teaching.p’\n",
            "\n",
            "df_pgun_teaching.p  100%[===================>]  75.43M   182MB/s    in 0.4s    \n",
            "\n",
            "2021-12-12 21:45:05 (182 MB/s) - ‘df_pgun_teaching.p’ saved [79089990/79089990]\n",
            "\n"
          ]
        }
      ]
    },
    {
      "cell_type": "markdown",
      "source": [
        "Check whether the GPU was found:"
      ],
      "metadata": {
        "id": "sXsuG5BQK8wF"
      }
    },
    {
      "cell_type": "code",
      "source": [
        "device_name = tf.test.gpu_device_name()\n",
        "if device_name != '/device:GPU:0':\n",
        "  raise SystemError('GPU device not found')\n",
        "print('Found GPU at: {}'.format(device_name))"
      ],
      "metadata": {
        "colab": {
          "base_uri": "https://localhost:8080/"
        },
        "id": "6GE94a0PDR1N",
        "outputId": "1d56c023-51de-4425-dcba-4f3c3a2c1332"
      },
      "execution_count": null,
      "outputs": [
        {
          "output_type": "stream",
          "name": "stdout",
          "text": [
            "Found GPU at: /device:GPU:0\n"
          ]
        }
      ]
    },
    {
      "cell_type": "markdown",
      "metadata": {
        "id": "sVHwIwSOvz3n"
      },
      "source": [
        "##Dataset"
      ]
    },
    {
      "cell_type": "markdown",
      "metadata": {
        "id": "sc7lPCGT6o4W"
      },
      "source": [
        "We can now load the dataset:"
      ]
    },
    {
      "cell_type": "code",
      "metadata": {
        "id": "GEgXr0CV6o4W"
      },
      "source": [
        "# read dataframe\n",
        "df = pd.read_pickle('df_pgun_teaching.p')"
      ],
      "execution_count": null,
      "outputs": []
    },
    {
      "cell_type": "markdown",
      "metadata": {
        "id": "wSBVlOV-6o4W"
      },
      "source": [
        "We may have a look at the dataset. It consists of 59,578 particle gun events ([from the SFGD detector](https://doi.org/10.1088/1748-0221/15/12/p12003)) with the following attributes:\n",
        "\n",
        "- **TruePID**: PDG code for particle identification (PID); 2212 (proton), 13 (muon), 211 (pion).\n",
        "- **TrueMomentum**: momentum in MeV.\n",
        "- **NNodes**: number of nodes of the event (3D spatial points).\n",
        "- **NodeOrder**: order of the nodes within the event.\n",
        "- **NodePosX**: array with the coordinates of the nodes along the X-axis (in mm).\n",
        "- **NodePosY**: array with the coordinates of the nodes along the Y-axis (in mm).\n",
        "- **NodePosZ**: array with the coordinates of the nodes along the Z-axis (in mm).\n",
        "- **NodeT**: array with the timestamps of the nodes (in ms).\n",
        "- **Nodededx**: array with energy deposits of the nodes (dE/dx).\n",
        "- **TrkLen**: length of the track (in mm).\n",
        "- **TrkEDepo**: total track energy deposition (in arbitrary unit).\n",
        "- **TrkDir1**: track direction, polar angle (in degrees).\n",
        "- **TrkDir2**: track direction, azimuth angle (in degrees).\n"
      ]
    },
    {
      "cell_type": "code",
      "metadata": {
        "id": "o9FuASKM6o4X",
        "colab": {
          "base_uri": "https://localhost:8080/",
          "height": 847
        },
        "outputId": "c6bebf91-3271-45bd-98a0-73034717d7c8"
      },
      "source": [
        "df"
      ],
      "execution_count": null,
      "outputs": [
        {
          "output_type": "execute_result",
          "data": {
            "text/html": [
              "<div>\n",
              "<style scoped>\n",
              "    .dataframe tbody tr th:only-of-type {\n",
              "        vertical-align: middle;\n",
              "    }\n",
              "\n",
              "    .dataframe tbody tr th {\n",
              "        vertical-align: top;\n",
              "    }\n",
              "\n",
              "    .dataframe thead th {\n",
              "        text-align: right;\n",
              "    }\n",
              "</style>\n",
              "<table border=\"1\" class=\"dataframe\">\n",
              "  <thead>\n",
              "    <tr style=\"text-align: right;\">\n",
              "      <th></th>\n",
              "      <th>TruePID</th>\n",
              "      <th>TrueMomentum</th>\n",
              "      <th>NNodes</th>\n",
              "      <th>NodeOrder</th>\n",
              "      <th>NodePosX</th>\n",
              "      <th>NodePosY</th>\n",
              "      <th>NodePosZ</th>\n",
              "      <th>NodeT</th>\n",
              "      <th>Nodededx</th>\n",
              "      <th>TrkLen</th>\n",
              "      <th>TrkEDepo</th>\n",
              "      <th>TrkDir1</th>\n",
              "      <th>TrkDir2</th>\n",
              "    </tr>\n",
              "  </thead>\n",
              "  <tbody>\n",
              "    <tr>\n",
              "      <th>0</th>\n",
              "      <td>13</td>\n",
              "      <td>183.392853</td>\n",
              "      <td>24</td>\n",
              "      <td>[0, 1, 2, 3, 4, 5, 6, 7, 8, 9, 10, 11, 12, 13,...</td>\n",
              "      <td>[562.3175048828125, 551.2816162109375, 541.041...</td>\n",
              "      <td>[-111.6478500366211, -115.0490493774414, -116....</td>\n",
              "      <td>[-1320.262451171875, -1309.0963134765625, -129...</td>\n",
              "      <td>[2407.756591796875, 2407.81689453125, 2407.876...</td>\n",
              "      <td>[165.22618103027344, 155.27743530273438, 476.1...</td>\n",
              "      <td>356.045837</td>\n",
              "      <td>9982.164062</td>\n",
              "      <td>0.654334</td>\n",
              "      <td>-0.231817</td>\n",
              "    </tr>\n",
              "    <tr>\n",
              "      <th>1</th>\n",
              "      <td>13</td>\n",
              "      <td>135.433670</td>\n",
              "      <td>14</td>\n",
              "      <td>[0, 1, 2, 3, 4, 5, 6, 7, 8, 9, 10, 11, 12, 13]</td>\n",
              "      <td>[827.2332763671875, 837.4697875976562, 847.938...</td>\n",
              "      <td>[253.38917541503906, 253.08900451660156, 252.9...</td>\n",
              "      <td>[-2185.638916015625, -2184.589599609375, -2183...</td>\n",
              "      <td>[3011.9111328125, 3012.093994140625, 3012.2770...</td>\n",
              "      <td>[314.21441650390625, 362.3026428222656, 291.91...</td>\n",
              "      <td>162.465469</td>\n",
              "      <td>5904.937500</td>\n",
              "      <td>0.087968</td>\n",
              "      <td>-0.100574</td>\n",
              "    </tr>\n",
              "    <tr>\n",
              "      <th>2</th>\n",
              "      <td>13</td>\n",
              "      <td>339.641693</td>\n",
              "      <td>93</td>\n",
              "      <td>[0, 1, 2, 3, 4, 5, 6, 7, 8, 9, 10, 11, 12, 13,...</td>\n",
              "      <td>[-563.5917358398438, -567.0311889648438, -570....</td>\n",
              "      <td>[104.8846664428711, 105.00057220458984, 105.52...</td>\n",
              "      <td>[-2781.479248046875, -2774.258056640625, -2759...</td>\n",
              "      <td>[1265.9661865234375, 1266.010009765625, 1266.0...</td>\n",
              "      <td>[148.050537109375, 211.795654296875, 216.69546...</td>\n",
              "      <td>1045.475098</td>\n",
              "      <td>25179.537109</td>\n",
              "      <td>0.958850</td>\n",
              "      <td>0.208432</td>\n",
              "    </tr>\n",
              "    <tr>\n",
              "      <th>3</th>\n",
              "      <td>13</td>\n",
              "      <td>148.852753</td>\n",
              "      <td>16</td>\n",
              "      <td>[0, 1, 2, 3, 4, 5, 6, 7, 8, 9, 10, 11, 12, 13,...</td>\n",
              "      <td>[-21.61979866027832, -26.758699417114258, -32....</td>\n",
              "      <td>[200.89085388183594, 197.64401245117188, 193.9...</td>\n",
              "      <td>[-1263.1961669921875, -1247.6337890625, -1238....</td>\n",
              "      <td>[2434.428466796875, 2434.522705078125, 2434.61...</td>\n",
              "      <td>[324.8998718261719, 334.5282287597656, 236.333...</td>\n",
              "      <td>210.668701</td>\n",
              "      <td>7044.659180</td>\n",
              "      <td>0.898544</td>\n",
              "      <td>-0.520376</td>\n",
              "    </tr>\n",
              "    <tr>\n",
              "      <th>4</th>\n",
              "      <td>13</td>\n",
              "      <td>208.717072</td>\n",
              "      <td>34</td>\n",
              "      <td>[0, 1, 2, 3, 4, 5, 6, 7, 8, 9, 10, 11, 12, 13,...</td>\n",
              "      <td>[-758.3839721679688, -744.0172119140625, -732....</td>\n",
              "      <td>[-36.68516540527344, -36.56645584106445, -36.5...</td>\n",
              "      <td>[-1941.163330078125, -1936.1429443359375, -193...</td>\n",
              "      <td>[2449.047607421875, 2449.087646484375, 2449.12...</td>\n",
              "      <td>[435.62548828125, 263.379150390625, 228.392959...</td>\n",
              "      <td>406.812988</td>\n",
              "      <td>12549.727539</td>\n",
              "      <td>0.391959</td>\n",
              "      <td>-0.004267</td>\n",
              "    </tr>\n",
              "    <tr>\n",
              "      <th>...</th>\n",
              "      <td>...</td>\n",
              "      <td>...</td>\n",
              "      <td>...</td>\n",
              "      <td>...</td>\n",
              "      <td>...</td>\n",
              "      <td>...</td>\n",
              "      <td>...</td>\n",
              "      <td>...</td>\n",
              "      <td>...</td>\n",
              "      <td>...</td>\n",
              "      <td>...</td>\n",
              "      <td>...</td>\n",
              "      <td>...</td>\n",
              "    </tr>\n",
              "    <tr>\n",
              "      <th>59573</th>\n",
              "      <td>2212</td>\n",
              "      <td>507.573883</td>\n",
              "      <td>8</td>\n",
              "      <td>[0, 1, 2, 3, 4, 5, 6, 7]</td>\n",
              "      <td>[580.9529418945312, 586.7144775390625, 591.494...</td>\n",
              "      <td>[159.6537628173828, 148.2635498046875, 135.815...</td>\n",
              "      <td>[-1313.0634765625, -1303.78466796875, -1292.29...</td>\n",
              "      <td>[3025.43115234375, 3025.369384765625, 3025.307...</td>\n",
              "      <td>[1443.2392578125, 1123.779052734375, 1469.8662...</td>\n",
              "      <td>115.832092</td>\n",
              "      <td>8642.566406</td>\n",
              "      <td>0.601480</td>\n",
              "      <td>-0.920192</td>\n",
              "    </tr>\n",
              "    <tr>\n",
              "      <th>59574</th>\n",
              "      <td>2212</td>\n",
              "      <td>352.309052</td>\n",
              "      <td>1</td>\n",
              "      <td>[0]</td>\n",
              "      <td>[-669.6401977539062]</td>\n",
              "      <td>[-102.67927551269531]</td>\n",
              "      <td>[-2453.0615234375]</td>\n",
              "      <td>[2412.013671875]</td>\n",
              "      <td>[22.722021102905273]</td>\n",
              "      <td>31.792725</td>\n",
              "      <td>22.722021</td>\n",
              "      <td>0.337339</td>\n",
              "      <td>-0.392731</td>\n",
              "    </tr>\n",
              "    <tr>\n",
              "      <th>59575</th>\n",
              "      <td>2212</td>\n",
              "      <td>640.505066</td>\n",
              "      <td>19</td>\n",
              "      <td>[0, 1, 2, 3, 4, 5, 6, 7, 8, 9, 10, 11, 12, 13,...</td>\n",
              "      <td>[-360.1888427734375, -354.10491943359375, -348...</td>\n",
              "      <td>[104.60367584228516, 108.55897521972656, 114.6...</td>\n",
              "      <td>[-1302.969970703125, -1292.6866455078125, -127...</td>\n",
              "      <td>[100.14892578125, 100.269287109375, 100.389640...</td>\n",
              "      <td>[326.5594482421875, 1124.9525146484375, 394.84...</td>\n",
              "      <td>257.413971</td>\n",
              "      <td>16223.990234</td>\n",
              "      <td>0.841636</td>\n",
              "      <td>0.657302</td>\n",
              "    </tr>\n",
              "    <tr>\n",
              "      <th>59576</th>\n",
              "      <td>2212</td>\n",
              "      <td>559.154297</td>\n",
              "      <td>12</td>\n",
              "      <td>[0, 1, 2, 3, 4, 5, 6, 7, 8, 9, 10, 11]</td>\n",
              "      <td>[323.822509765625, 313.666015625, 302.98873901...</td>\n",
              "      <td>[-30.165552139282227, -31.712827682495117, -34...</td>\n",
              "      <td>[-2451.083251953125, -2446.32470703125, -2441....</td>\n",
              "      <td>[1843.7156982421875, 1843.811279296875, 1843.9...</td>\n",
              "      <td>[664.553466796875, 809.3343505859375, 655.9212...</td>\n",
              "      <td>156.982391</td>\n",
              "      <td>11960.110352</td>\n",
              "      <td>0.397594</td>\n",
              "      <td>-0.129663</td>\n",
              "    </tr>\n",
              "    <tr>\n",
              "      <th>59577</th>\n",
              "      <td>2212</td>\n",
              "      <td>504.417450</td>\n",
              "      <td>10</td>\n",
              "      <td>[0, 1, 2, 3, 4, 5, 6, 7, 8, 9]</td>\n",
              "      <td>[59.57508087158203, 63.06616973876953, 66.5439...</td>\n",
              "      <td>[-211.66836547851562, -210.24105834960938, -20...</td>\n",
              "      <td>[-2422.00146484375, -2413.975830078125, -2401....</td>\n",
              "      <td>[3007.43115234375, 3007.591552734375, 3007.752...</td>\n",
              "      <td>[498.162353515625, 1242.254638671875, 724.5892...</td>\n",
              "      <td>125.379158</td>\n",
              "      <td>9960.366211</td>\n",
              "      <td>0.950519</td>\n",
              "      <td>0.435973</td>\n",
              "    </tr>\n",
              "  </tbody>\n",
              "</table>\n",
              "<p>59578 rows × 13 columns</p>\n",
              "</div>"
            ],
            "text/plain": [
              "       TruePID  TrueMomentum  NNodes  ...      TrkEDepo   TrkDir1   TrkDir2\n",
              "0           13    183.392853      24  ...   9982.164062  0.654334 -0.231817\n",
              "1           13    135.433670      14  ...   5904.937500  0.087968 -0.100574\n",
              "2           13    339.641693      93  ...  25179.537109  0.958850  0.208432\n",
              "3           13    148.852753      16  ...   7044.659180  0.898544 -0.520376\n",
              "4           13    208.717072      34  ...  12549.727539  0.391959 -0.004267\n",
              "...        ...           ...     ...  ...           ...       ...       ...\n",
              "59573     2212    507.573883       8  ...   8642.566406  0.601480 -0.920192\n",
              "59574     2212    352.309052       1  ...     22.722021  0.337339 -0.392731\n",
              "59575     2212    640.505066      19  ...  16223.990234  0.841636  0.657302\n",
              "59576     2212    559.154297      12  ...  11960.110352  0.397594 -0.129663\n",
              "59577     2212    504.417450      10  ...   9960.366211  0.950519  0.435973\n",
              "\n",
              "[59578 rows x 13 columns]"
            ]
          },
          "metadata": {},
          "execution_count": 4
        }
      ]
    },
    {
      "cell_type": "markdown",
      "metadata": {
        "id": "RghPKyXA04rQ"
      },
      "source": [
        "And check the correlations of the variables (please notice that the node features are not included since each even has a different length):"
      ]
    },
    {
      "cell_type": "code",
      "metadata": {
        "id": "Ag5QkbJKMsVm",
        "colab": {
          "base_uri": "https://localhost:8080/",
          "height": 266
        },
        "outputId": "d8d14870-9467-4bdd-f918-30f370325d68"
      },
      "source": [
        "df.corr()"
      ],
      "execution_count": null,
      "outputs": [
        {
          "output_type": "execute_result",
          "data": {
            "text/html": [
              "<div>\n",
              "<style scoped>\n",
              "    .dataframe tbody tr th:only-of-type {\n",
              "        vertical-align: middle;\n",
              "    }\n",
              "\n",
              "    .dataframe tbody tr th {\n",
              "        vertical-align: top;\n",
              "    }\n",
              "\n",
              "    .dataframe thead th {\n",
              "        text-align: right;\n",
              "    }\n",
              "</style>\n",
              "<table border=\"1\" class=\"dataframe\">\n",
              "  <thead>\n",
              "    <tr style=\"text-align: right;\">\n",
              "      <th></th>\n",
              "      <th>TruePID</th>\n",
              "      <th>TrueMomentum</th>\n",
              "      <th>NNodes</th>\n",
              "      <th>TrkLen</th>\n",
              "      <th>TrkEDepo</th>\n",
              "      <th>TrkDir1</th>\n",
              "      <th>TrkDir2</th>\n",
              "    </tr>\n",
              "  </thead>\n",
              "  <tbody>\n",
              "    <tr>\n",
              "      <th>TruePID</th>\n",
              "      <td>1.000000</td>\n",
              "      <td>0.850428</td>\n",
              "      <td>-0.119319</td>\n",
              "      <td>-0.120292</td>\n",
              "      <td>0.295550</td>\n",
              "      <td>-0.008871</td>\n",
              "      <td>-0.015841</td>\n",
              "    </tr>\n",
              "    <tr>\n",
              "      <th>TrueMomentum</th>\n",
              "      <td>0.850428</td>\n",
              "      <td>1.000000</td>\n",
              "      <td>0.330657</td>\n",
              "      <td>0.337742</td>\n",
              "      <td>0.727587</td>\n",
              "      <td>0.044745</td>\n",
              "      <td>-0.006422</td>\n",
              "    </tr>\n",
              "    <tr>\n",
              "      <th>NNodes</th>\n",
              "      <td>-0.119319</td>\n",
              "      <td>0.330657</td>\n",
              "      <td>1.000000</td>\n",
              "      <td>0.989437</td>\n",
              "      <td>0.845660</td>\n",
              "      <td>0.097393</td>\n",
              "      <td>0.031975</td>\n",
              "    </tr>\n",
              "    <tr>\n",
              "      <th>TrkLen</th>\n",
              "      <td>-0.120292</td>\n",
              "      <td>0.337742</td>\n",
              "      <td>0.989437</td>\n",
              "      <td>1.000000</td>\n",
              "      <td>0.858516</td>\n",
              "      <td>0.110516</td>\n",
              "      <td>0.031158</td>\n",
              "    </tr>\n",
              "    <tr>\n",
              "      <th>TrkEDepo</th>\n",
              "      <td>0.295550</td>\n",
              "      <td>0.727587</td>\n",
              "      <td>0.845660</td>\n",
              "      <td>0.858516</td>\n",
              "      <td>1.000000</td>\n",
              "      <td>0.101672</td>\n",
              "      <td>0.014638</td>\n",
              "    </tr>\n",
              "    <tr>\n",
              "      <th>TrkDir1</th>\n",
              "      <td>-0.008871</td>\n",
              "      <td>0.044745</td>\n",
              "      <td>0.097393</td>\n",
              "      <td>0.110516</td>\n",
              "      <td>0.101672</td>\n",
              "      <td>1.000000</td>\n",
              "      <td>0.001564</td>\n",
              "    </tr>\n",
              "    <tr>\n",
              "      <th>TrkDir2</th>\n",
              "      <td>-0.015841</td>\n",
              "      <td>-0.006422</td>\n",
              "      <td>0.031975</td>\n",
              "      <td>0.031158</td>\n",
              "      <td>0.014638</td>\n",
              "      <td>0.001564</td>\n",
              "      <td>1.000000</td>\n",
              "    </tr>\n",
              "  </tbody>\n",
              "</table>\n",
              "</div>"
            ],
            "text/plain": [
              "               TruePID  TrueMomentum    NNodes  ...  TrkEDepo   TrkDir1   TrkDir2\n",
              "TruePID       1.000000      0.850428 -0.119319  ...  0.295550 -0.008871 -0.015841\n",
              "TrueMomentum  0.850428      1.000000  0.330657  ...  0.727587  0.044745 -0.006422\n",
              "NNodes       -0.119319      0.330657  1.000000  ...  0.845660  0.097393  0.031975\n",
              "TrkLen       -0.120292      0.337742  0.989437  ...  0.858516  0.110516  0.031158\n",
              "TrkEDepo      0.295550      0.727587  0.845660  ...  1.000000  0.101672  0.014638\n",
              "TrkDir1      -0.008871      0.044745  0.097393  ...  0.101672  1.000000  0.001564\n",
              "TrkDir2      -0.015841     -0.006422  0.031975  ...  0.014638  0.001564  1.000000\n",
              "\n",
              "[7 rows x 7 columns]"
            ]
          },
          "metadata": {},
          "execution_count": 5
        }
      ]
    },
    {
      "cell_type": "markdown",
      "metadata": {
        "id": "nrzNwzscqd4w"
      },
      "source": [
        "The 3D spatial points of the events are usually stored in the form of hits or nodes. We chose the latter for our dataset. A hit corresponds with a cube with real energy deposition (there are usually many hits across the track signature), whilst a node corresponds with a fitted position after performing the track reconstruction.\n",
        "\n",
        "<div>\n",
        "<img src=\"https://raw.githubusercontent.com/saulam/neutrinoml/main/hit.png\" width=\"400\"/>\n",
        "&nbsp;&nbsp;&nbsp;&nbsp;&nbsp;&nbsp;&nbsp;&nbsp;&nbsp;&nbsp;\n",
        "<img src=\"https://raw.githubusercontent.com/saulam/neutrinoml/main/node.png\" width=\"400\"/>\n",
        "</div>"
      ]
    },
    {
      "cell_type": "markdown",
      "metadata": {
        "id": "N5qxEri_6o4X"
      },
      "source": [
        "We may also have a look at the events by plotting the nodes within the detector space. By default, we're looking at the first event (event 0), but we can display more events by playing with the variable `event_number`."
      ]
    },
    {
      "cell_type": "code",
      "metadata": {
        "id": "8c9eBj3T6o4Y",
        "colab": {
          "base_uri": "https://localhost:8080/",
          "height": 319
        },
        "outputId": "2d7eb8e6-f380-432c-896a-67de98896082"
      },
      "source": [
        "event_number = 0\n",
        "plot_event(df, event_number)"
      ],
      "execution_count": null,
      "outputs": [
        {
          "output_type": "display_data",
          "data": {
            "image/png": "[encoded data removed]",
            "text/plain": [
              "<Figure size 432x288 with 1 Axes>"
            ]
          },
          "metadata": {
            "needs_background": "light"
          }
        }
      ]
    },
    {
      "cell_type": "markdown",
      "metadata": {
        "id": "g70lBcA36o4Z"
      },
      "source": [
        "Regardless of the type of data we use and the algorithm chosen, it is essential to perform a **preprocessing** of the data, which allows us to prepare the data to make it understandable for the machine-learning algorithm.\n",
        "\n",
        "As explained before, the goal is to learn to predict a label **y** from a fixed-size vector of features **X**. However, the input data is in 3D, and every event (track) has a different size. Thus, a simple way of doing it is to use two of the features to start with: `TrkLen` and `TrkEDepo`. Please, notice that we are encoding the PID code from protons (2212), muons (13), and pions (211) into 0, 1, and 2, respectively."
      ]
    },
    {
      "cell_type": "code",
      "metadata": {
        "id": "-yfqZYjY6o4Z",
        "colab": {
          "base_uri": "https://localhost:8080/"
        },
        "outputId": "96f45f27-7e19-473f-e837-73cc8664a2f5"
      },
      "source": [
        "X = np.zeros(shape=(len(df),2), dtype=np.float32) # array of size (n_events, 2)\n",
        "y = np.zeros(shape=(len(df),), dtype=np.float32)  # array of size (n_events,)\n",
        "\n",
        "# fill dataset\n",
        "for event_n, event in df.iterrows():\n",
        "    \n",
        "    pid_label = event['TruePID']\n",
        "    \n",
        "    # retrieve the first node\n",
        "    X[event_n, 0] = event['TrkLen']\n",
        "    X[event_n, 1] = event['TrkEDepo']\n",
        "\n",
        "    # PID label\n",
        "    if pid_label==2212: \n",
        "      pid_label=0 # proton\n",
        "    elif pid_label==13: \n",
        "      pid_label=1 # muons\n",
        "    else:\n",
        "      pid_label=2 # pions\n",
        "    y[event_n] = pid_label\n",
        "\n",
        "# standardize the dataset (mean=0, std=1)\n",
        "X_stan = scale(X)"
      ],
      "execution_count": null,
      "outputs": [
        {
          "output_type": "stream",
          "name": "stderr",
          "text": [
            "/usr/local/lib/python3.7/dist-packages/sklearn/preprocessing/_data.py:236: UserWarning: Numerical issues were encountered when centering the data and might not be solved. Dataset may contain too large values. You may need to prescale your features.\n",
            "  \"Numerical issues were encountered \"\n",
            "/usr/local/lib/python3.7/dist-packages/sklearn/preprocessing/_data.py:255: UserWarning: Numerical issues were encountered when scaling the data and might not be solved. The standard deviation of the data is probably very close to 0. \n",
            "  \"Numerical issues were encountered \"\n"
          ]
        }
      ]
    },
    {
      "cell_type": "markdown",
      "metadata": {
        "id": "8vlvQHUc6o4Z"
      },
      "source": [
        "In order to understand the training data, it's always good to visualise first. For simplicity, let's start comparing protons and muons (ignoring pions). A good way of doing it is to create a scatter plot of one feature against the other:"
      ]
    },
    {
      "cell_type": "code",
      "metadata": {
        "id": "SDQfji9m6o4a",
        "colab": {
          "base_uri": "https://localhost:8080/",
          "height": 225
        },
        "outputId": "5ab18127-fbcb-4a3d-eaa7-dd011eb8f3b6"
      },
      "source": [
        "param_names = ['TrkLen', 'TrkEDepo']\n",
        "y_names = ['proton', 'muon']\n",
        "\n",
        "plot_params_pid(X[y!=2], y[y!=2], param_names, y_names)"
      ],
      "execution_count": null,
      "outputs": [
        {
          "output_type": "display_data",
          "data": {
            "image/png": "[encoded data removed]",
            "text/plain": [
              "<Figure size 360x216 with 1 Axes>"
            ]
          },
          "metadata": {
            "needs_background": "light"
          }
        }
      ]
    },
    {
      "cell_type": "markdown",
      "metadata": {
        "id": "w-INAKi_YAYW"
      },
      "source": [
        "Good! It's easy to distinguish by eye two \"almost\" independent distributions: one for protons and the other for muons."
      ]
    },
    {
      "cell_type": "markdown",
      "metadata": {
        "id": "ee4lzVE1yP-m"
      },
      "source": [
        "## Fully connected neural networks"
      ]
    },
    {
      "cell_type": "markdown",
      "metadata": {
        "id": "BX5jfc3Q6o4b"
      },
      "source": [
        "Training a machine-learning algorithm is usually not an easy task. The algorithm learns from some training data until it is ready to make predictions on unseen data. In order to test how the algorithm performs on new data, the dataset used for training is divided into two groups (sometimes is divided into three groups, but we're keeping two groups here for simplicity):\n",
        "\n",
        "- Training set: the model learns from this set only. It must be the largest set.\n",
        "- Test set: it is used to evaluate the model at the end of the training, only once it is fully trained. \n",
        "\n",
        "In this example, we keep 60% of the data for training and 40% for testing. Besides, it's always recommended to shuffle the training examples to prevents any bias during the training."
      ]
    },
    {
      "cell_type": "code",
      "metadata": {
        "id": "74sobEvb6o4c"
      },
      "source": [
        "X_train, X_test, y_train, y_test = train_test_split(X_stan[y!=2], y[y!=2], test_size=0.4, random_state=7) # random shuffle and split: 60% training, 40% test"
      ],
      "execution_count": null,
      "outputs": []
    },
    {
      "cell_type": "markdown",
      "source": [
        "This assignment aims to deal with deep learning methods, a subset of machine learning consisting of artificial neural networks. We will implement the fully connected neural network (i.e., all neurons in one layer are connected to all the neurons in the next layer) shown below using the Keras interface from the TensorFlow deep-learning framework. Keras is an API ideal for neural-network prototyping. In the architecture below, each neuron must compute the following function $\\sigma(w x + b) < 0.5$, where $w$ and $b$ are the input weight and bias of the neuron, respectively, and $\\sigma$ is the [activation function](https://towardsdatascience.com/activation-functions-neural-networks-1cbd9f8d91d6).\n",
        "\n",
        "<div>\n",
        "<img src=\"https://raw.githubusercontent.com/saulam/neutrinoml/main/dense_nn.png\" width=\"700\"/>\n",
        "</div>\n"
      ],
      "metadata": {
        "id": "ZZoa_hnEWmz2"
      }
    },
    {
      "cell_type": "code",
      "source": [
        "tf.random.set_seed(7) # for reproducibility\n",
        "\n",
        "num_features = 2 # TrkLen, TrkEDepo\n",
        "num_classes = 1 # one output unit is enough since it's a binary classification problem\n",
        "\n",
        "# Fully connected neural network model\n",
        "input = Input(shape=(num_features,)) # input layer\n",
        "x = Dense(10, activation='relu')(input) # hidden layer 1\n",
        "x = Dense(10, activation='relu')(x) # hidden layer 2\n",
        "output = Dense(num_classes, activation='sigmoid')(x) # output layer\n",
        "model = Model(inputs=input, outputs=output)\n",
        "\n",
        "# compile the model\n",
        "model.compile(loss='binary_crossentropy', optimizer='adam', metrics=['accuracy'])\n",
        "model.summary()"
      ],
      "metadata": {
        "colab": {
          "base_uri": "https://localhost:8080/"
        },
        "id": "dswZ3SjYMOKx",
        "outputId": "a7b915af-a75d-4436-b698-bef0768522c7"
      },
      "execution_count": null,
      "outputs": [
        {
          "output_type": "stream",
          "name": "stdout",
          "text": [
            "Model: \"model\"\n",
            "_________________________________________________________________\n",
            " Layer (type)                Output Shape              Param #   \n",
            "=================================================================\n",
            " input_1 (InputLayer)        [(None, 2)]               0         \n",
            "                                                                 \n",
            " dense (Dense)               (None, 10)                30        \n",
            "                                                                 \n",
            " dense_1 (Dense)             (None, 10)                110       \n",
            "                                                                 \n",
            " dense_2 (Dense)             (None, 1)                 11        \n",
            "                                                                 \n",
            "=================================================================\n",
            "Total params: 151\n",
            "Trainable params: 151\n",
            "Non-trainable params: 0\n",
            "_________________________________________________________________\n"
          ]
        }
      ]
    },
    {
      "cell_type": "markdown",
      "source": [
        "And train the model for 10 epochs and a batch size of 128:\n",
        "\n",
        "*   Batch: a set of $n$ input examples (also called mini-batch). The input examples in a batch are processed independently, in parallel. During training, a batch results in only one update to the model (one forward pass and one backward pass).\n",
        "*   Epoch: one forward pass and one backward pass of all the training examples. In other words, an epoch is one pass over the entire dataset, and it is used to separate training into distinct phases. For a dataset consisting of $m$ training examples and a batch size of $n$, then it will take $m / n$ iterations to complete one epoch.\n"
      ],
      "metadata": {
        "id": "U4xZRB1yhAhc"
      }
    },
    {
      "cell_type": "code",
      "source": [
        "model.fit(X_train, y_train, epochs=10, batch_size=128, verbose=1)"
      ],
      "metadata": {
        "colab": {
          "base_uri": "https://localhost:8080/"
        },
        "id": "79TWw6evN6GU",
        "outputId": "f7aa622d-26ce-47d6-f764-3989409d6365"
      },
      "execution_count": null,
      "outputs": [
        {
          "output_type": "stream",
          "name": "stdout",
          "text": [
            "Epoch 1/10\n",
            "199/199 [==============================] - 3s 4ms/step - loss: 0.5901 - accuracy: 0.7740\n",
            "Epoch 2/10\n",
            "199/199 [==============================] - 1s 4ms/step - loss: 0.2503 - accuracy: 0.9682\n",
            "Epoch 3/10\n",
            "199/199 [==============================] - 1s 4ms/step - loss: 0.1246 - accuracy: 0.9715\n",
            "Epoch 4/10\n",
            "199/199 [==============================] - 1s 4ms/step - loss: 0.0996 - accuracy: 0.9727\n",
            "Epoch 5/10\n",
            "199/199 [==============================] - 1s 4ms/step - loss: 0.0893 - accuracy: 0.9743\n",
            "Epoch 6/10\n",
            "199/199 [==============================] - 1s 4ms/step - loss: 0.0836 - accuracy: 0.9749\n",
            "Epoch 7/10\n",
            "199/199 [==============================] - 1s 4ms/step - loss: 0.0792 - accuracy: 0.9757\n",
            "Epoch 8/10\n",
            "199/199 [==============================] - 1s 4ms/step - loss: 0.0758 - accuracy: 0.9763\n",
            "Epoch 9/10\n",
            "199/199 [==============================] - 1s 4ms/step - loss: 0.0737 - accuracy: 0.9764\n",
            "Epoch 10/10\n",
            "199/199 [==============================] - 1s 4ms/step - loss: 0.0717 - accuracy: 0.9762\n"
          ]
        },
        {
          "output_type": "execute_result",
          "data": {
            "text/plain": [
              "<keras.callbacks.History at 0x7f295c1a8c50>"
            ]
          },
          "metadata": {},
          "execution_count": 11
        }
      ]
    },
    {
      "cell_type": "markdown",
      "metadata": {
        "id": "Rhw-cLdmyAFT"
      },
      "source": [
        "It's also usual to calculate some metrics to evaluate our deep-learning method's performance on the test set."
      ]
    },
    {
      "cell_type": "code",
      "metadata": {
        "id": "9etmLMv7co3X",
        "colab": {
          "base_uri": "https://localhost:8080/"
        },
        "outputId": "37318de4-d348-4da6-a7f1-e2d889a44238"
      },
      "source": [
        "y_pred = model.predict(X_test).round()\n",
        "print(\"Overall accuracy: {:2.3}\\n\".format(accuracy_score(y_test, y_pred)))\n",
        "print(\" - Proton accuracy: {:2.3}\".format(accuracy_score(y_test[y_test==0], y_pred[y_test==0])))\n",
        "print(\" - Muon accuracy: {:2.3}\\n\".format(accuracy_score(y_test[y_test==1], y_pred[y_test==1])))\n",
        "conf=confusion_matrix(y_pred, y_test)\n",
        "print_conf(conf, ['protons', 'muons'])"
      ],
      "execution_count": null,
      "outputs": [
        {
          "output_type": "stream",
          "name": "stdout",
          "text": [
            "Overall accuracy: 0.978\n",
            "\n",
            " - Proton accuracy: 0.962\n",
            " - Muon accuracy: 0.996\n",
            "\n",
            "\t\tTrue protons\tTrue muons\n",
            "Pred protons\t        8630\t        35\n",
            "Pred muons\t         338\t      7976\n"
          ]
        }
      ]
    },
    {
      "cell_type": "markdown",
      "metadata": {
        "id": "SODIuuGgyppu"
      },
      "source": [
        "Nice! We're getting almost perfect separation using only two input parameters! With logistic regression (first lecture), proton accuracy was similar, but the muon accuracy it was ~83%. The improvement using neural networks is obvious."
      ]
    },
    {
      "cell_type": "markdown",
      "metadata": {
        "id": "jFUFjUW36o4g"
      },
      "source": [
        "Is there any room for improving the current results? \n",
        "\n",
        "In the same way we did in the previous lecture, a more robust but straightforward way of making the input data interpretable for the algorithm is to keep the information of only a few nodes of each track. Our preprocessing is illustrated in the following figure (there are many combinations, we are showing just one practical example here):\n",
        "\n",
        "<div>\n",
        "<img src=\"https://raw.githubusercontent.com/saulam/neutrinoml/main/reg.png\" width=\"500\"/>\n",
        "</div>\n",
        "\n",
        "where we keep the dE/dx of the first 3 and last 5 nodes of each track, along with their 4 global parameters, building up an array of size 12. For events where the track has less than 8 nodes (first 3 + last 5 nodes), we simply fill the empty positions of the array with -1s.\n",
        "\n",
        "To sum up, with this preprocessing, we should end up having our input dataset **X**, consisting of 59,578 vectors of size 12 each (a 59,578x12 matrix). The values to estimate, **y**, are the labels of each event (proton or muon)."
      ]
    },
    {
      "cell_type": "code",
      "metadata": {
        "id": "x4NZa2hZ6o4g",
        "colab": {
          "base_uri": "https://localhost:8080/"
        },
        "outputId": "92642595-e99e-46f6-f3b7-e3b4e74bab3f"
      },
      "source": [
        "X = np.zeros(shape=(len(df),12), dtype=np.float32) # array of size (n_event, 12)\n",
        "y = np.zeros(shape=(len(df),), dtype=np.float32)   # array of size (n_event,)\n",
        "X.fill(-1) # filled with -1s\n",
        "\n",
        "# fill dataset\n",
        "for event_n, event in df.iterrows():\n",
        "\n",
        "    NodeOrder = event['NodeOrder']\n",
        "    Nodededx = event['Nodededx'][NodeOrder]\n",
        "\n",
        "    # retrieve up to the first 3 nodes\n",
        "    nfirstnodes = min(Nodededx.shape[0], 3)\n",
        "    X[event_n,:nfirstnodes] = Nodededx[:nfirstnodes]\n",
        "\n",
        "    if Nodededx.shape[0]>nfirstnodes:\n",
        "        # retrieve up to the last 5 nodes\n",
        "        nlastnodes = min(Nodededx.shape[0]-3, 5)\n",
        "        X[event_n,nfirstnodes:nfirstnodes+nlastnodes] = Nodededx[-nlastnodes:]\n",
        "\n",
        "    # global parameters\n",
        "    X[event_n,-4] = event['TrkLen']\n",
        "    X[event_n,-3] = event['TrkEDepo']\n",
        "    X[event_n,-2] = event['TrkDir1']\n",
        "    X[event_n,-1] = event['TrkDir2']\n",
        "\n",
        "    # PID label\n",
        "    pid_label = event['TruePID']\n",
        "    if pid_label==2212:\n",
        "      pid_label=0 # protons\n",
        "    elif pid_label==13: \n",
        "      pid_label=1 # muons\n",
        "    else:\n",
        "      pid_label=2 # pions\n",
        "    y[event_n] = pid_label\n",
        "    y[event_n] = pid_label\n",
        "\n",
        "# standardize the dataset (mean=0, std=1)\n",
        "X_stan = scale(X)"
      ],
      "execution_count": null,
      "outputs": [
        {
          "output_type": "stream",
          "name": "stderr",
          "text": [
            "/usr/local/lib/python3.7/dist-packages/sklearn/preprocessing/_data.py:236: UserWarning: Numerical issues were encountered when centering the data and might not be solved. Dataset may contain too large values. You may need to prescale your features.\n",
            "  \"Numerical issues were encountered \"\n",
            "/usr/local/lib/python3.7/dist-packages/sklearn/preprocessing/_data.py:255: UserWarning: Numerical issues were encountered when scaling the data and might not be solved. The standard deviation of the data is probably very close to 0. \n",
            "  \"Numerical issues were encountered \"\n"
          ]
        }
      ]
    },
    {
      "cell_type": "markdown",
      "metadata": {
        "id": "5qH2A2LAzCsV"
      },
      "source": [
        "In order to understand the training data, it's always good to visualise first. A good way of doing it could be creating a histogram plot of each of our 12 features:"
      ]
    },
    {
      "cell_type": "code",
      "metadata": {
        "id": "bcFeWh3iP7E-",
        "colab": {
          "base_uri": "https://localhost:8080/",
          "height": 471
        },
        "outputId": "11bf124d-bac1-4ba9-951e-2e2312a50453"
      },
      "source": [
        "param_names = ['dE/dx node 1', 'dE/dx node 2', 'dE/dx node 3', 'dE/dx node n-4',\\\n",
        "               'dE/dx node n-3', 'dE/dx node n-2', 'dE/dx node n-1', 'dE/dx node n', 'TrkLen',\\\n",
        "               'TrkEDepo', 'TrkDir1', 'TrkDir2']\n",
        "y_names = [\"proton\", \"muon\",\"pion\"]\n",
        "plot_parameters(X, y, param_names, y_names, mode=\"classification\")"
      ],
      "execution_count": null,
      "outputs": [
        {
          "output_type": "display_data",
          "data": {
            "image/png": "[encoded data removed]",
            "text/plain": [
              "<Figure size 1440x648 with 12 Axes>"
            ]
          },
          "metadata": {
            "needs_background": "light"
          }
        }
      ]
    },
    {
      "cell_type": "markdown",
      "metadata": {
        "id": "YePGg59gzOwH"
      },
      "source": [
        "We split the dataset again into training and test sets:"
      ]
    },
    {
      "cell_type": "code",
      "metadata": {
        "id": "2EIkyVK-vwLR"
      },
      "source": [
        "X_train, X_test, y_train, y_test = train_test_split(X_stan[y!=2], y[y!=2], test_size=0.4, random_state=7) # 60% training and 40% test"
      ],
      "execution_count": null,
      "outputs": []
    },
    {
      "cell_type": "markdown",
      "metadata": {
        "id": "Hecj03Q5zXTi"
      },
      "source": [
        "Define a new network (we just need to fix the input layer), train it on the new dataset and test it:"
      ]
    },
    {
      "cell_type": "code",
      "source": [
        "tf.random.set_seed(7) # for reproducibility\n",
        "\n",
        "num_features = 12 # TrkLen, TrkEDepo\n",
        "num_classes = 1 # one output unit is enough since it's a binary classification problem\n",
        "\n",
        "# Fully connected neural network model\n",
        "input = Input(shape=(num_features,)) # input layer\n",
        "x = Dense(10, activation='relu')(input) # hidden layer 1\n",
        "x = Dense(10, activation='relu')(x) # hidden layer 2\n",
        "output = Dense(num_classes, activation='sigmoid')(x) # output layer\n",
        "model = Model(inputs=input, outputs=output)\n",
        "\n",
        "# compile the model\n",
        "model.compile(loss='binary_crossentropy', optimizer='adam', metrics=['accuracy'])\n",
        "model.summary()\n",
        "\n",
        "# train the model\n",
        "model.fit(X_train, y_train, epochs=10, batch_size=128, verbose=1)\n",
        "\n",
        "# test the model\n",
        "y_pred = model.predict(X_test).round()\n",
        "print(\"Overall accuracy: {:2.3}\\n\".format(accuracy_score(y_test, y_pred)))\n",
        "print(\" - Proton accuracy: {:2.3}\".format(accuracy_score(y_test[y_test==0], y_pred[y_test==0])))\n",
        "print(\" - Muon accuracy: {:2.3}\\n\".format(accuracy_score(y_test[y_test==1], y_pred[y_test==1])))\n",
        "conf=confusion_matrix(y_pred, y_test)\n",
        "print_conf(conf, ['protons', 'muons'])"
      ],
      "metadata": {
        "colab": {
          "base_uri": "https://localhost:8080/"
        },
        "id": "-Z30XFUvRAJC",
        "outputId": "74a61f62-ee0c-466d-bf60-0567232cbc3b"
      },
      "execution_count": null,
      "outputs": [
        {
          "output_type": "stream",
          "name": "stdout",
          "text": [
            "Model: \"model_1\"\n",
            "_________________________________________________________________\n",
            " Layer (type)                Output Shape              Param #   \n",
            "=================================================================\n",
            " input_2 (InputLayer)        [(None, 12)]              0         \n",
            "                                                                 \n",
            " dense_3 (Dense)             (None, 10)                130       \n",
            "                                                                 \n",
            " dense_4 (Dense)             (None, 10)                110       \n",
            "                                                                 \n",
            " dense_5 (Dense)             (None, 1)                 11        \n",
            "                                                                 \n",
            "=================================================================\n",
            "Total params: 251\n",
            "Trainable params: 251\n",
            "Non-trainable params: 0\n",
            "_________________________________________________________________\n",
            "Epoch 1/10\n",
            "199/199 [==============================] - 1s 4ms/step - loss: 0.4998 - accuracy: 0.7872\n",
            "Epoch 2/10\n",
            "199/199 [==============================] - 1s 4ms/step - loss: 0.1501 - accuracy: 0.9742\n",
            "Epoch 3/10\n",
            "199/199 [==============================] - 1s 4ms/step - loss: 0.1025 - accuracy: 0.9766\n",
            "Epoch 4/10\n",
            "199/199 [==============================] - 1s 4ms/step - loss: 0.0897 - accuracy: 0.9777\n",
            "Epoch 5/10\n",
            "199/199 [==============================] - 1s 4ms/step - loss: 0.0811 - accuracy: 0.9784\n",
            "Epoch 6/10\n",
            "199/199 [==============================] - 1s 4ms/step - loss: 0.0740 - accuracy: 0.9786\n",
            "Epoch 7/10\n",
            "199/199 [==============================] - 1s 4ms/step - loss: 0.0677 - accuracy: 0.9796\n",
            "Epoch 8/10\n",
            "199/199 [==============================] - 1s 4ms/step - loss: 0.0619 - accuracy: 0.9804\n",
            "Epoch 9/10\n",
            "199/199 [==============================] - 1s 4ms/step - loss: 0.0570 - accuracy: 0.9818\n",
            "Epoch 10/10\n",
            "199/199 [==============================] - 1s 4ms/step - loss: 0.0526 - accuracy: 0.9818\n",
            "Overall accuracy: 0.982\n",
            "\n",
            " - Proton accuracy: 0.973\n",
            " - Muon accuracy: 0.993\n",
            "\n",
            "\t\tTrue protons\tTrue muons\n",
            "Pred protons\t        8723\t        59\n",
            "Pred muons\t         245\t      7952\n"
          ]
        }
      ]
    },
    {
      "cell_type": "markdown",
      "metadata": {
        "id": "LjXwKJZAzz9R"
      },
      "source": [
        "The results are amazing! However, we have solved a binary classification problem, while our dataset has a third type of particles that we have ignored (pions). Out network architecture is easily extensible to solve problems with a number of classes $k>2$.\n",
        "\n"
      ]
    },
    {
      "cell_type": "code",
      "source": [
        "X_train, X_test, y_train, y_test = train_test_split(X_stan, y, test_size=0.4, random_state=7) # 60% training and 40% test"
      ],
      "metadata": {
        "id": "6GEOENi9TEeY"
      },
      "execution_count": null,
      "outputs": []
    },
    {
      "cell_type": "code",
      "source": [
        "tf.random.set_seed(7) # for reproducibility\n",
        "\n",
        "num_features = 12 # TrkLen, TrkEDepo\n",
        "num_classes = 3 # proton, muon, and pion\n",
        "\n",
        "# Fully connected neural network model\n",
        "input = Input(shape=(num_features,)) # input layer\n",
        "x = Dense(10, activation='relu')(input) # hidden layer 1\n",
        "x = Dense(10, activation='relu')(x) # hidden layer 2\n",
        "output = Dense(num_classes, activation='softmax')(x) # output layer\n",
        "model = Model(inputs=input, outputs=output)\n",
        "\n",
        "# compile the model\n",
        "model.compile(loss='sparse_categorical_crossentropy', optimizer='adam', metrics=['accuracy'])\n",
        "model.summary()\n",
        "\n",
        "# train the model\n",
        "model.fit(X_train, y_train, epochs=10, batch_size=128, verbose=1)\n",
        "\n",
        "# test the model\n",
        "y_pred = model.predict(X_test).argmax(axis=1)\n",
        "print(\"Overall accuracy: {:2.3}\\n\".format(accuracy_score(y_test, y_pred)))\n",
        "print(\" - Proton accuracy: {:2.3}\".format(accuracy_score(y_test[y_test==0], y_pred[y_test==0])))\n",
        "print(\" - Muon accuracy: {:2.3}\".format(accuracy_score(y_test[y_test==1], y_pred[y_test==1])))\n",
        "print(\" - Pion accuracy: {:2.3}\\n\".format(accuracy_score(y_test[y_test==2], y_pred[y_test==2])))\n",
        "conf=confusion_matrix(y_pred, y_test)\n",
        "print_conf(conf, ['protons', 'muons', 'pions'])"
      ],
      "metadata": {
        "colab": {
          "base_uri": "https://localhost:8080/"
        },
        "id": "zRlHNKF_TG_g",
        "outputId": "1fcf11ef-6a02-4238-a05f-20b04e9fb5dd"
      },
      "execution_count": null,
      "outputs": [
        {
          "output_type": "stream",
          "name": "stdout",
          "text": [
            "Model: \"model_2\"\n",
            "_________________________________________________________________\n",
            " Layer (type)                Output Shape              Param #   \n",
            "=================================================================\n",
            " input_3 (InputLayer)        [(None, 12)]              0         \n",
            "                                                                 \n",
            " dense_6 (Dense)             (None, 10)                130       \n",
            "                                                                 \n",
            " dense_7 (Dense)             (None, 10)                110       \n",
            "                                                                 \n",
            " dense_8 (Dense)             (None, 3)                 33        \n",
            "                                                                 \n",
            "=================================================================\n",
            "Total params: 273\n",
            "Trainable params: 273\n",
            "Non-trainable params: 0\n",
            "_________________________________________________________________\n",
            "Epoch 1/10\n",
            "280/280 [==============================] - 1s 3ms/step - loss: 0.7488 - accuracy: 0.6329\n",
            "Epoch 2/10\n",
            "280/280 [==============================] - 1s 3ms/step - loss: 0.4857 - accuracy: 0.7726\n",
            "Epoch 3/10\n",
            "280/280 [==============================] - 1s 3ms/step - loss: 0.4173 - accuracy: 0.8204\n",
            "Epoch 4/10\n",
            "280/280 [==============================] - 1s 3ms/step - loss: 0.3791 - accuracy: 0.8386\n",
            "Epoch 5/10\n",
            "280/280 [==============================] - 1s 3ms/step - loss: 0.3528 - accuracy: 0.8496\n",
            "Epoch 6/10\n",
            "280/280 [==============================] - 1s 3ms/step - loss: 0.3343 - accuracy: 0.8556\n",
            "Epoch 7/10\n",
            "280/280 [==============================] - 1s 3ms/step - loss: 0.3202 - accuracy: 0.8613\n",
            "Epoch 8/10\n",
            "280/280 [==============================] - 1s 3ms/step - loss: 0.3085 - accuracy: 0.8657\n",
            "Epoch 9/10\n",
            "280/280 [==============================] - 1s 3ms/step - loss: 0.2983 - accuracy: 0.8706\n",
            "Epoch 10/10\n",
            "280/280 [==============================] - 1s 3ms/step - loss: 0.2889 - accuracy: 0.8773\n",
            "Overall accuracy: 0.878\n",
            "\n",
            " - Proton accuracy: 0.987\n",
            " - Muon accuracy: 0.859\n",
            " - Pion accuracy: 0.758\n",
            "\n",
            "\t\tTrue protons\tTrue muons\tTrue pions\n",
            "Pred protons\t        8791\t       197\t       256\n",
            "Pred muons\t          44\t      6962\t      1397\n",
            "Pred pions\t          73\t       948\t      5164\n"
          ]
        }
      ]
    },
    {
      "cell_type": "markdown",
      "source": [
        "The muon/pion separation looks much better than for decision trees (last lecture)!"
      ],
      "metadata": {
        "id": "ek-qpcnGmR2N"
      }
    },
    {
      "cell_type": "markdown",
      "source": [
        "The way to add more capacity to our model (making it more capable to learn) is to add more layers and neurons per layer!"
      ],
      "metadata": {
        "id": "MM52HRfbncU_"
      }
    },
    {
      "cell_type": "code",
      "source": [
        "tf.random.set_seed(7) # for reproducibility\n",
        "\n",
        "num_features = 12 # TrkLen, TrkEDepo\n",
        "num_classes = 3 # proton, muon, and pion\n",
        "\n",
        "# Fully connected neural network model\n",
        "input = Input(shape=(num_features,)) # input layer\n",
        "x = Dense(100, activation='relu')(input) # hidden layer 1\n",
        "x = Dense(100, activation='relu')(x) # hidden layer 2\n",
        "x = Dense(100, activation='relu')(x) # hidden layer 2\n",
        "x = Dense(100, activation='relu')(x) # hidden layer 2\n",
        "output = Dense(num_classes, activation='softmax')(x) # output layer\n",
        "model = Model(inputs=input, outputs=output)\n",
        "\n",
        "# compile the model\n",
        "model.compile(loss='sparse_categorical_crossentropy', optimizer='adam', metrics=['accuracy'])\n",
        "model.summary()\n",
        "\n",
        "# train the model\n",
        "model.fit(X_train, y_train, epochs=10, batch_size=128, verbose=1)\n",
        "\n",
        "# test the model\n",
        "y_pred = model.predict(X_test).argmax(axis=1)\n",
        "print(\"Overall accuracy: {:2.3}\\n\".format(accuracy_score(y_test, y_pred)))\n",
        "print(\" - Proton accuracy: {:2.3}\".format(accuracy_score(y_test[y_test==0], y_pred[y_test==0])))\n",
        "print(\" - Muon accuracy: {:2.3}\".format(accuracy_score(y_test[y_test==1], y_pred[y_test==1])))\n",
        "print(\" - Pion accuracy: {:2.3}\\n\".format(accuracy_score(y_test[y_test==2], y_pred[y_test==2])))\n",
        "conf=confusion_matrix(y_pred, y_test)\n",
        "print_conf(conf, ['protons', 'muons', 'pions'])"
      ],
      "metadata": {
        "colab": {
          "base_uri": "https://localhost:8080/"
        },
        "id": "e0slZOIEmlor",
        "outputId": "149fc82d-641a-49cf-c4c4-80ab87eb437c"
      },
      "execution_count": null,
      "outputs": [
        {
          "output_type": "stream",
          "name": "stdout",
          "text": [
            "Model: \"model_3\"\n",
            "_________________________________________________________________\n",
            " Layer (type)                Output Shape              Param #   \n",
            "=================================================================\n",
            " input_4 (InputLayer)        [(None, 12)]              0         \n",
            "                                                                 \n",
            " dense_9 (Dense)             (None, 100)               1300      \n",
            "                                                                 \n",
            " dense_10 (Dense)            (None, 100)               10100     \n",
            "                                                                 \n",
            " dense_11 (Dense)            (None, 100)               10100     \n",
            "                                                                 \n",
            " dense_12 (Dense)            (None, 100)               10100     \n",
            "                                                                 \n",
            " dense_13 (Dense)            (None, 3)                 303       \n",
            "                                                                 \n",
            "=================================================================\n",
            "Total params: 31,903\n",
            "Trainable params: 31,903\n",
            "Non-trainable params: 0\n",
            "_________________________________________________________________\n",
            "Epoch 1/10\n",
            "280/280 [==============================] - 1s 3ms/step - loss: 0.4003 - accuracy: 0.8214\n",
            "Epoch 2/10\n",
            "280/280 [==============================] - 1s 3ms/step - loss: 0.2778 - accuracy: 0.8789\n",
            "Epoch 3/10\n",
            "280/280 [==============================] - 1s 3ms/step - loss: 0.2448 - accuracy: 0.8944\n",
            "Epoch 4/10\n",
            "280/280 [==============================] - 1s 3ms/step - loss: 0.2206 - accuracy: 0.9087\n",
            "Epoch 5/10\n",
            "280/280 [==============================] - 1s 3ms/step - loss: 0.2107 - accuracy: 0.9116\n",
            "Epoch 6/10\n",
            "280/280 [==============================] - 1s 3ms/step - loss: 0.2045 - accuracy: 0.9150\n",
            "Epoch 7/10\n",
            "280/280 [==============================] - 1s 3ms/step - loss: 0.1985 - accuracy: 0.9175\n",
            "Epoch 8/10\n",
            "280/280 [==============================] - 1s 3ms/step - loss: 0.1944 - accuracy: 0.9191\n",
            "Epoch 9/10\n",
            "280/280 [==============================] - 1s 3ms/step - loss: 0.1903 - accuracy: 0.9216\n",
            "Epoch 10/10\n",
            "280/280 [==============================] - 1s 3ms/step - loss: 0.1884 - accuracy: 0.9208\n",
            "Overall accuracy: 0.914\n",
            "\n",
            " - Proton accuracy: 0.984\n",
            " - Muon accuracy: 0.862\n",
            " - Pion accuracy: 0.882\n",
            "\n",
            "\t\tTrue protons\tTrue muons\tTrue pions\n",
            "Pred protons\t        8769\t        59\t       149\n",
            "Pred muons\t          15\t      6990\t       652\n",
            "Pred pions\t         124\t      1058\t      6016\n"
          ]
        }
      ]
    },
    {
      "cell_type": "markdown",
      "metadata": {
        "id": "McWnT5jTysUa"
      },
      "source": [
        "## Convolutional neural networks"
      ]
    },
    {
      "cell_type": "markdown",
      "metadata": {
        "id": "fVOpKD9eDg78"
      },
      "source": [
        "[Convolutional neural network (CNN)](https://direct.mit.edu/neco/article-abstract/1/4/541/5515/Backpropagation-Applied-to-Handwritten-Zip-Code?redirectedFrom=fulltext) algorithms that operate on images have been very successful in a number of [HEP tasks](https://iml-wg.github.io/HEPML-LivingReview/). The main feature of CNNs is that they apply a series of filters (using convolutions, hence the name of the CNN), usually followed by spatial pooling, applied in sequence to extract increasingly powerful and abstract features that allow the CNN to classify the images [[citation](http://dl.acm.org/citation.cfm?id=2999134.2999257)]. Each of the filters consists of a set of values that are learnt by the CNN through the training process.  CNNs are typically deep neural networks that consist of many convolutional layers, with the output from one convolutional layer forming the input to the next. The last layers of a CNN are usually fully connected layers, where the output layer is followed by a sigmoid or softmax activation function.\n",
        "\n",
        "Since CNNs learn from images, let's generate a 2D image for each event in the dataset. An easy way of doing it is to save the YZ projection of each 3D event (the projection chosen is not completely arbitrary. We wanted to keep the Z-axis since it corresponds to the beam direction):"
      ]
    },
    {
      "cell_type": "code",
      "source": [
        "def map_value(y,z):\n",
        "  min_y = -257.56\n",
        "  max_y = 317.56\n",
        "  min_z = -2888.78\n",
        "  max_z = -999.1\n",
        "\n",
        "  y = int((y-min_y)//10)\n",
        "  z = int((z-min_z)//10)\n",
        "\n",
        "  return y, z\n",
        "\n",
        "\n",
        "X = np.zeros(shape=(len(df),58,189,1), dtype=np.float32) # array of size (n_event, 56, 184)\n",
        "y = np.zeros(shape=(len(df),), dtype=np.float32)   # array of size (n_event,)\n",
        "\n",
        "# fill dataset\n",
        "for event_n, event in df.iterrows():\n",
        "\n",
        "    NodePosY = event['NodePosY']\n",
        "    NodePosZ = event['NodePosZ']\n",
        "    Nodededx = event['Nodededx']\n",
        "\n",
        "    old_y, old_z, dedxs = -1, -1, []\n",
        "    for index in range(len(NodePosY)):\n",
        "        y_coord, z_coord = NodePosY[index], NodePosZ[index]\n",
        "        y_coord, z_coord = map_value(y_coord, z_coord)\n",
        "\n",
        "        if index==0 or (y_coord==old_y and z_coord==old_z):\n",
        "            dedxs.append(Nodededx[index])\n",
        "            old_y, old_z = y_coord, z_coord\n",
        "        else:\n",
        "            X[event_n, old_y, old_z, 0] = np.mean(dedxs)\n",
        "            old_y, old_z, dedxs = y_coord, z_coord, []\n",
        "            dedxs.append(Nodededx[index])\n",
        "\n",
        "    X[event_n, old_y, old_z, 0] = np.mean(dedxs)\n",
        "\n",
        "    # PID label\n",
        "    pid_label = event['TruePID']\n",
        "    if pid_label==2212:\n",
        "      pid_label=0 # protons\n",
        "    elif pid_label==13: \n",
        "      pid_label=1 # muons\n",
        "    else:\n",
        "      pid_label=2 # pions\n",
        "    y[event_n] = pid_label\n",
        "\n",
        "X_train, X_test, y_train, y_test = train_test_split(X, y, test_size=0.4, random_state=7) # 60% training and 40% test"
      ],
      "metadata": {
        "id": "Lm_EAPlaUhTx"
      },
      "execution_count": null,
      "outputs": []
    },
    {
      "cell_type": "markdown",
      "source": [
        "We may plot two different views of the same 3D event and the corresponding YZ projection to check everything worked as expected:"
      ],
      "metadata": {
        "id": "RnOBphBcjy1D"
      }
    },
    {
      "cell_type": "code",
      "source": [
        "event_number = 0\n",
        "plot_projection(df, event_number, X)"
      ],
      "metadata": {
        "colab": {
          "base_uri": "https://localhost:8080/",
          "height": 561
        },
        "id": "1k7W_ne8fvWJ",
        "outputId": "958f1aa9-047e-4bab-9a35-078b5609998e"
      },
      "execution_count": null,
      "outputs": [
        {
          "output_type": "display_data",
          "data": {
            "image/png": "[encoded data removed]",
            "text/plain": [
              "<Figure size 1080x360 with 2 Axes>"
            ]
          },
          "metadata": {
            "needs_background": "light"
          }
        },
        {
          "output_type": "display_data",
          "data": {
            "image/png": "[encoded data removed]",
            "text/plain": [
              "<Figure size 938.483x288 with 2 Axes>"
            ]
          },
          "metadata": {
            "needs_background": "light"
          }
        }
      ]
    },
    {
      "cell_type": "markdown",
      "source": [
        "We will implement the following convolutional connected neural network:\n",
        "\n",
        "<div>\n",
        "<img src=\"https://raw.githubusercontent.com/saulam/neutrinoml/main/cnn.png\" width=\"900\"/>\n",
        "</div>"
      ],
      "metadata": {
        "id": "2EcFELvFxj0a"
      }
    },
    {
      "cell_type": "code",
      "source": [
        "tf.random.set_seed(7) # for reproducibility\n",
        "\n",
        "# Convolutional neural network model\n",
        "inp_shape = (58,189,1)\n",
        "input = Input(shape=inp_shape) # input layer\n",
        "x = Conv2D(16, (6,18), padding='valid', strides=(2,3), activation='relu')(input) # conv layer 1\n",
        "x = MaxPooling2D(pool_size=(2,3), strides=(2,3))(x) # max-pooling 1\n",
        "x = Conv2D(32, (3,3), padding='valid', strides=(2,3), activation='relu')(x) # conv layer 2\n",
        "x = MaxPooling2D(pool_size=(2,3), strides=(2,3))(x) # max-pooling 2\n",
        "x = Flatten()(x) # from 3D to 1D\n",
        "x = Dense(64, activation='relu')(x) # fully connected layer at the end\n",
        "output = Dense(3, activation='softmax')(x) # output layer\n",
        "\n",
        "# compile the model\n",
        "model = Model(inputs=input, outputs=output)\n",
        "model.compile(loss='sparse_categorical_crossentropy', optimizer='adam', metrics=['accuracy'])\n",
        "model.summary()"
      ],
      "metadata": {
        "colab": {
          "base_uri": "https://localhost:8080/"
        },
        "id": "QApgnODzX5EQ",
        "outputId": "870a18a0-3156-4383-ba0d-4ebbf6a2db57"
      },
      "execution_count": null,
      "outputs": [
        {
          "output_type": "stream",
          "name": "stdout",
          "text": [
            "Model: \"model_4\"\n",
            "_________________________________________________________________\n",
            " Layer (type)                Output Shape              Param #   \n",
            "=================================================================\n",
            " input_5 (InputLayer)        [(None, 58, 189, 1)]      0         \n",
            "                                                                 \n",
            " conv2d (Conv2D)             (None, 27, 58, 16)        1744      \n",
            "                                                                 \n",
            " max_pooling2d (MaxPooling2D  (None, 13, 19, 16)       0         \n",
            " )                                                               \n",
            "                                                                 \n",
            " conv2d_1 (Conv2D)           (None, 6, 6, 32)          4640      \n",
            "                                                                 \n",
            " max_pooling2d_1 (MaxPooling  (None, 3, 2, 32)         0         \n",
            " 2D)                                                             \n",
            "                                                                 \n",
            " flatten (Flatten)           (None, 192)               0         \n",
            "                                                                 \n",
            " dense_14 (Dense)            (None, 64)                12352     \n",
            "                                                                 \n",
            " dense_15 (Dense)            (None, 3)                 195       \n",
            "                                                                 \n",
            "=================================================================\n",
            "Total params: 18,931\n",
            "Trainable params: 18,931\n",
            "Non-trainable params: 0\n",
            "_________________________________________________________________\n"
          ]
        }
      ]
    },
    {
      "cell_type": "code",
      "source": [
        "# train the model\n",
        "model.fit(X_train, y_train, epochs=10, batch_size=128, verbose=1)\n",
        "\n",
        "# test the model\n",
        "y_pred = model.predict(X_test).argmax(axis=1)\n",
        "print(\"Overall accuracy: {:2.3}\\n\".format(accuracy_score(y_test, y_pred)))\n",
        "print(\" - Proton accuracy: {:2.3}\".format(accuracy_score(y_test[y_test==0], y_pred[y_test==0])))\n",
        "print(\" - Muon accuracy: {:2.3}\".format(accuracy_score(y_test[y_test==1], y_pred[y_test==1])))\n",
        "print(\" - Pion accuracy: {:2.3}\\n\".format(accuracy_score(y_test[y_test==2], y_pred[y_test==2])))\n",
        "conf=confusion_matrix(y_pred, y_test)\n",
        "print_conf(conf, ['protons', 'muons', 'pions'])"
      ],
      "metadata": {
        "colab": {
          "base_uri": "https://localhost:8080/"
        },
        "id": "BHuTPTVWladz",
        "outputId": "9c8e97a8-ade3-4681-cac2-76fb18a094b1"
      },
      "execution_count": null,
      "outputs": [
        {
          "output_type": "stream",
          "name": "stdout",
          "text": [
            "Epoch 1/10\n",
            "280/280 [==============================] - 11s 12ms/step - loss: 1.5426 - accuracy: 0.4040\n",
            "Epoch 2/10\n",
            "280/280 [==============================] - 3s 11ms/step - loss: 0.9344 - accuracy: 0.5246\n",
            "Epoch 3/10\n",
            "280/280 [==============================] - 3s 11ms/step - loss: 0.7713 - accuracy: 0.6232\n",
            "Epoch 4/10\n",
            "280/280 [==============================] - 3s 11ms/step - loss: 0.6633 - accuracy: 0.6742\n",
            "Epoch 5/10\n",
            "280/280 [==============================] - 3s 11ms/step - loss: 0.6084 - accuracy: 0.6972\n",
            "Epoch 6/10\n",
            "280/280 [==============================] - 3s 11ms/step - loss: 0.5704 - accuracy: 0.7148\n",
            "Epoch 7/10\n",
            "280/280 [==============================] - 3s 11ms/step - loss: 0.5485 - accuracy: 0.7259\n",
            "Epoch 8/10\n",
            "280/280 [==============================] - 3s 11ms/step - loss: 0.5350 - accuracy: 0.7327\n",
            "Epoch 9/10\n",
            "280/280 [==============================] - 3s 11ms/step - loss: 0.5206 - accuracy: 0.7417\n",
            "Epoch 10/10\n",
            "280/280 [==============================] - 3s 11ms/step - loss: 0.5104 - accuracy: 0.7480\n",
            "Overall accuracy: 0.721\n",
            "\n",
            " - Proton accuracy: 0.892\n",
            " - Muon accuracy: 0.724\n",
            " - Pion accuracy: 0.494\n",
            "\n",
            "\t\tTrue protons\tTrue muons\tTrue pions\n",
            "Pred protons\t        7946\t       249\t       515\n",
            "Pred muons\t         184\t      5871\t      2932\n",
            "Pred pions\t         778\t      1987\t      3370\n"
          ]
        }
      ]
    },
    {
      "cell_type": "markdown",
      "source": [
        "How do we interpret the results? Does it mean CNNs are less powerful than fully connected networks (FCNs)? No! From the physics point of view, we are training the CNN to identify particles but just looking at their signatures in a 2D projection! In contrast, we were giving our FCN as input some reconstructed physics parameters that were useful for performing PID. Thus, the scientist's goal should be to understand which method is best for each situation."
      ],
      "metadata": {
        "id": "4VEiG_FQk2YM"
      }
    },
    {
      "cell_type": "markdown",
      "metadata": {
        "id": "z1vfmgtEIKdw"
      },
      "source": [
        "##Homework"
      ]
    },
    {
      "cell_type": "markdown",
      "metadata": {
        "id": "Y2BF4oRRITXC"
      },
      "source": [
        "It's your time to beat the results above!\n",
        "\n",
        "The idea is to add capacity to the models by designing wider (more neurons or convolutional filters per layer) and deeper (more layers) networks.\n",
        "\n",
        "Useful links:\n",
        "\n",
        "- How to Control Neural Network Model Capacity With Nodes and Layers: https://machinelearningmastery.com/how-to-control-neural-network-model-capacity-with-nodes-and-layers/.\n",
        "- TensorFlow 2 quickstart for beginners: https://www.tensorflow.org/tutorials/quickstart/beginner.\n",
        "- Building a Convolutional Neural Network Using TensorFlow – Keras: https://www.analyticsvidhya.com/blog/2021/06/building-a-convolutional-neural-network-using-tensorflow-keras/."
      ]
    },
    {
      "cell_type": "code",
      "metadata": {
        "id": "8DX25P_WIovR"
      },
      "source": [
        ""
      ],
      "execution_count": null,
      "outputs": []
    }
  ]
}